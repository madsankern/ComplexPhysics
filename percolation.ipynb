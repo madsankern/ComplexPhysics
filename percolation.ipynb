{
 "cells": [
  {
   "cell_type": "markdown",
   "metadata": {},
   "source": [
    "Import packages"
   ]
  },
  {
   "cell_type": "code",
   "execution_count": 1,
   "metadata": {},
   "outputs": [],
   "source": [
    "import numpy as np\n",
    "import matplotlib.pyplot as plt\n",
    "import pandas as pd\n",
    "from scipy.optimize import curve_fit\n",
    "from scipy.ndimage import measurements # Check this\n",
    "\n",
    "%matplotlib inline"
   ]
  },
  {
   "cell_type": "markdown",
   "metadata": {},
   "source": [
    "## Standard Percolation"
   ]
  },
  {
   "cell_type": "markdown",
   "metadata": {},
   "source": [
    "Simulate percolation on a 2D lattice"
   ]
  },
  {
   "cell_type": "code",
   "execution_count": 36,
   "metadata": {},
   "outputs": [],
   "source": [
    "L = 100 # Size of the lattice\n",
    "p = 0.5927 # Probability of conducting site\n",
    "r = np.random.rand(L,L) # Lattice of random numbers from standard uniform distribution\n",
    "m = r < p # Create boleran for conducting sites in the lattice\n",
    "lw, num = measurements.label(m) # Find and organize clusters. 'num' is the total number of connectivity clusters"
   ]
  },
  {
   "cell_type": "markdown",
   "metadata": {},
   "source": [
    "Print the lattice with each cluster numbered"
   ]
  },
  {
   "cell_type": "code",
   "execution_count": 25,
   "metadata": {},
   "outputs": [
    {
     "name": "stdout",
     "output_type": "stream",
     "text": [
      "[[ 1  1  1  0  0  0  0  2  2  0  3  0  0  4  4  4  0  5  5  5]\n",
      " [ 1  1  1  0  0  0  2  2  0  3  3  0  2  0  0  0  5  5  5  0]\n",
      " [ 1  1  0  2  2  2  2  2  0  3  0  0  2  0  2  0  0  5  5  5]\n",
      " [ 1  0  0  0  2  0  2  2  2  0  2  2  2  2  2  0  0  5  5  0]\n",
      " [ 0  2  2  2  2  2  0  2  2  2  2  2  2  2  2  2  2  0  5  5]\n",
      " [ 2  0  2  2  2  2  2  2  2  0  2  0  0  0  0  2  0  0  0  0]\n",
      " [ 2  0  0  0  0  2  2  2  0  2  2  2  2  0  6  0  0  7  7  7]\n",
      " [ 2  0  2  0  0  2  2  0  0  2  2  2  2  2  0  0  0  0  7  7]\n",
      " [ 2  2  2  0  2  2  2  2  0  2  2  2  0  2  2  2  0  8  0  0]\n",
      " [ 2  2  2  2  2  2  2  0  2  2  0  0  2  2  2  2  0  0  0  9]\n",
      " [ 2  2  2  0  0  2  2  0  2  2  2  2  2  2  2  0  0 10  0  9]\n",
      " [ 2  2  0  0 11  0  2  2  2  0  0  0  0  0  0  0  0 10 10  0]\n",
      " [ 2  0  0  0  0  0  2  2  2  0 12 12 12  0  0 13  0 10  0  0]\n",
      " [ 2  0 14  0  2  2  2  2  2  2  0 12  0 15  0  0 16  0  0  0]\n",
      " [ 0  0  0  2  0  2  0  0  0  0  0  0 15 15 15 15  0  0 17 17]\n",
      " [ 0 18  0  2  2  2  0  0  0  0  0 19  0 15 15 15 15 15  0  0]\n",
      " [ 0  0  2  2  0  2  2  2  2  0 20  0 21  0 15 15 15 15  0 22]\n",
      " [ 0  2  2  2  2  2  2  2  2  0 20  0  0 15 15  0  0 15 15  0]\n",
      " [ 0  0  2  0  0  2  0  2  0 23  0 15 15 15 15 15 15  0 15 15]\n",
      " [ 0  2  2  2  2  2  2  2  0  0 24  0 15  0  0  0  0 25  0 15]]\n"
     ]
    }
   ],
   "source": [
    "print(lw)"
   ]
  },
  {
   "cell_type": "markdown",
   "metadata": {},
   "source": [
    "Print the total number of clusters"
   ]
  },
  {
   "cell_type": "code",
   "execution_count": 26,
   "metadata": {},
   "outputs": [
    {
     "name": "stdout",
     "output_type": "stream",
     "text": [
      "The total number of clusters is 25\n"
     ]
    }
   ],
   "source": [
    "print('The total number of clusters is ' + str(num))"
   ]
  },
  {
   "cell_type": "markdown",
   "metadata": {},
   "source": [
    "Compute the size of each cluster"
   ]
  },
  {
   "cell_type": "code",
   "execution_count": 37,
   "metadata": {},
   "outputs": [],
   "source": [
    "area = measurements.sum(m, lw, index= np.arange(lw.max() + 1)) # This calculates the size of all the clusters, sorted from the smallest to the largest\n",
    "areaImg = area[lw] # Compute the lattice, with the number equal to the cluster size for each cluster"
   ]
  },
  {
   "cell_type": "code",
   "execution_count": 34,
   "metadata": {},
   "outputs": [],
   "source": [
    "# print(area[lw]) # Print if in doubt"
   ]
  },
  {
   "cell_type": "markdown",
   "metadata": {},
   "source": [
    "Plot the results"
   ]
  },
  {
   "cell_type": "code",
   "execution_count": 38,
   "metadata": {},
   "outputs": [
    {
     "data": {
      "image/png": "[encoded data removed]",
      "text/plain": [
       "<Figure size 432x432 with 1 Axes>"
      ]
     },
     "metadata": {
      "needs_background": "light"
     },
     "output_type": "display_data"
    }
   ],
   "source": [
    "fig, ax = plt.subplots(figsize=(6, 6))\n",
    "ax.imshow(areaImg, origin='lower')\n",
    "# fig.colorbar(ax.imshow(areaImg, origin='lower'));\n",
    "plt.show()"
   ]
  },
  {
   "cell_type": "markdown",
   "metadata": {},
   "source": [
    "Simulate the system for different values of $p$"
   ]
  },
  {
   "cell_type": "code",
   "execution_count": 39,
   "metadata": {},
   "outputs": [],
   "source": [
    "p_vals = np.linspace(0.5,0.7,100)\n",
    "L = 100\n",
    "nsamp = 100\n",
    "r = np.random.rand(L,L) # Only need to generate the lattice once. This is a quick way to simulate\n",
    "n_perc = np.zeros(len(p_vals))\n",
    "\n",
    "# Loop over p values\n",
    "for i,p in enumerate(p_vals):\n",
    "    \n",
    "    # Repeat calculations below as many times as the number of samples\n",
    "    for j in range(nsamp):\n",
    "        \n",
    "        # Compute percolation\n",
    "        r = np.random.rand(L,L) # Random numbers are drawn again (changes results a bit)\n",
    "        m = r<p\n",
    "        lw, num = measurements.label(m)\n",
    "\n",
    "        # Loop over each of the clusters\n",
    "        # If the cluster spans the entire lattice horizontally, it is the infinity cluster\n",
    "        # Then count the number of times the infinity cluster appears and divide by nr of samples to compute frequency\n",
    "        for n in range(1,num+1):\n",
    "            if n in lw[0,:] and n in lw[L-1,:]: # Check for vertical spans\n",
    "                n_perc[i] += 1\n",
    "\n",
    "# Compute the percolation probability as the sample average\n",
    "p_perc = n_perc/nsamp"
   ]
  },
  {
   "cell_type": "markdown",
   "metadata": {},
   "source": [
    "Plot the resulting percolation probability as a function of the conducting probability. This is just $p_c = 0.5$ in the case of the Bethe lattice, but must be computed numerically for a finite-dimensional lattice. Define the critical probability as the $p$ that ensures $P(p) = 0.5$. The idea is that if the percolation probability is $0.5$, then for a infinitely large system, "
   ]
  },
  {
   "cell_type": "code",
   "execution_count": 61,
   "metadata": {},
   "outputs": [
    {
     "data": {
      "image/png": "[encoded data removed]",
      "text/plain": [
       "<Figure size 576x432 with 1 Axes>"
      ]
     },
     "metadata": {
      "needs_background": "light"
     },
     "output_type": "display_data"
    }
   ],
   "source": [
    "fig = plt.figure(figsize=(8,6))\n",
    "ax = fig.add_subplot(1,1,1)\n",
    "\n",
    "ax.plot(p_vals, p_perc, linestyle = '-', color = '0.5')\n",
    "ax.set_xlabel('$p$')\n",
    "ax.set_ylabel('Percorlation probability')\n",
    "ax.hlines(y = 0.5, color= 'k', linestyle = '--', linewidth=1, xmin = 0.5, xmax = 0.7)\n",
    "ax.set_xlim(0.5,0.7)\n",
    "\n",
    "plt.show()"
   ]
  },
  {
   "cell_type": "markdown",
   "metadata": {},
   "source": [
    "## Directed Percolation"
   ]
  },
  {
   "cell_type": "code",
   "execution_count": null,
   "metadata": {},
   "outputs": [],
   "source": []
  }
 ],
 "metadata": {
  "kernelspec": {
   "display_name": "Python 3",
   "language": "python",
   "name": "python3"
  },
  "language_info": {
   "codemirror_mode": {
    "name": "ipython",
    "version": 3
   },
   "file_extension": ".py",
   "mimetype": "text/x-python",
   "name": "python",
   "nbconvert_exporter": "python",
   "pygments_lexer": "ipython3",
   "version": "3.7.4"
  }
 },
 "nbformat": 4,
 "nbformat_minor": 4
}
