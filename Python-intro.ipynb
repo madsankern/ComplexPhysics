{
 "cells": [
  {
   "cell_type": "markdown",
   "metadata": {
    "slideshow": {
     "slide_type": "slide"
    }
   },
   "source": [
    "# **Introduction to Python**"
   ]
  },
  {
   "cell_type": "markdown",
   "metadata": {
    "slideshow": {
     "slide_type": "slide"
    }
   },
   "source": [
    "### **What is Python?**"
   ]
  },
  {
   "cell_type": "markdown",
   "metadata": {
    "slideshow": {
     "slide_type": "fragment"
    }
   },
   "source": [
    ">#### A multiparadigm, general purpose programming language. "
   ]
  },
  {
   "cell_type": "markdown",
   "metadata": {
    "slideshow": {
     "slide_type": "slide"
    }
   },
   "source": [
    "### **What can I do with Python?**"
   ]
  },
  {
   "cell_type": "markdown",
   "metadata": {
    "slideshow": {
     "slide_type": "fragment"
    }
   },
   "source": [
    ">#### Everything you can imagine a computer can do. "
   ]
  },
  {
   "cell_type": "markdown",
   "metadata": {
    "slideshow": {
     "slide_type": "fragment"
    }
   },
   "source": [
    "> - Scientific computing\n",
    "> - Web development\n",
    "> - Machine learning\n",
    "> - Data Analysis\n",
    "> - ...\n",
    "\n"
   ]
  },
  {
   "cell_type": "markdown",
   "metadata": {
    "slideshow": {
     "slide_type": "slide"
    }
   },
   "source": [
    "### **Python's popularity is rising**"
   ]
  },
  {
   "cell_type": "markdown",
   "metadata": {
    "slideshow": {
     "slide_type": "fragment"
    }
   },
   "source": [
    "![](python_trend.png)\n"
   ]
  },
  {
   "cell_type": "markdown",
   "metadata": {
    "slideshow": {
     "slide_type": "slide"
    }
   },
   "source": [
    "### **Why so many people are switching to Python?**"
   ]
  },
  {
   "cell_type": "markdown",
   "metadata": {
    "slideshow": {
     "slide_type": "fragment"
    }
   },
   "source": [
    ">#### Python's main objective is to make programming **effortless**."
   ]
  },
  {
   "cell_type": "markdown",
   "metadata": {
    "slideshow": {
     "slide_type": "fragment"
    }
   },
   "source": [
    ">#### **Intuitive syntax**"
   ]
  },
  {
   "cell_type": "markdown",
   "metadata": {
    "slideshow": {
     "slide_type": "slide"
    }
   },
   "source": [
    ">#### As a result:"
   ]
  },
  {
   "cell_type": "markdown",
   "metadata": {
    "slideshow": {
     "slide_type": "fragment"
    }
   },
   "source": [
    "> - Programming can be much easier and fun\n",
    "> - Highly Pedagogical\n",
    "> - Not the fastest (but this is solved with the packages created by its enormous community)\n",
    ">> * numpy\n",
    ">> * scipy\n",
    ">> * pandas\n",
    ">> * matplotlib\n",
    ">> * For high performance check Cython and Numba"
   ]
  },
  {
   "cell_type": "markdown",
   "metadata": {
    "slideshow": {
     "slide_type": "slide"
    }
   },
   "source": [
    "### **Tasks that can be quite tedius in other languages become surprisingly easy**"
   ]
  },
  {
   "cell_type": "markdown",
   "metadata": {
    "slideshow": {
     "slide_type": "fragment"
    }
   },
   "source": [
    "![](https://imgs.xkcd.com/comics/python.png)"
   ]
  },
  {
   "cell_type": "markdown",
   "metadata": {
    "slideshow": {
     "slide_type": "slide"
    }
   },
   "source": [
    "### **How do you learn how to code?**"
   ]
  },
  {
   "cell_type": "markdown",
   "metadata": {
    "slideshow": {
     "slide_type": "fragment"
    }
   },
   "source": [
    "> * PRACTICE (You learn by DOING)!\n",
    "> * Type the code yourself \n",
    "> * DO NOT copy-paste\n",
    "> * Use search engines to get help from the community (Stack overflow)\n",
    "> * Write reusable code and make comments to remember"
   ]
  },
  {
   "cell_type": "markdown",
   "metadata": {
    "slideshow": {
     "slide_type": "slide"
    }
   },
   "source": [
    "### **What is Jupyter Notebook?**"
   ]
  },
  {
   "cell_type": "markdown",
   "metadata": {
    "slideshow": {
     "slide_type": "fragment"
    }
   },
   "source": [
    ">#### An interactive and visual platform for working with Julia - **Python** - R (JU-PYT-ER) "
   ]
  },
  {
   "cell_type": "markdown",
   "metadata": {
    "slideshow": {
     "slide_type": "slide"
    }
   },
   "source": [
    "### **How do we interact with a Jupyter Notebook?**"
   ]
  },
  {
   "cell_type": "markdown",
   "metadata": {
    "slideshow": {
     "slide_type": "fragment"
    }
   },
   "source": [
    ">#### Jupyter works by having cells in which you can put code. The active cell has a colored bar next to it. \n",
    ">* A cell is in edit mode when there is a <span style=\"color:green\">*green*</span> bar to the left. To activate edit mode click on a cell.\n",
    ">* A cell is in command mode when the bar to the left is <span style=\"color:blue\">*blue*</span>. Execute cells with combined **Shift and Enter**"
   ]
  },
  {
   "cell_type": "markdown",
   "metadata": {
    "slideshow": {
     "slide_type": "slide"
    }
   },
   "source": [
    "### **Let's start!**"
   ]
  },
  {
   "cell_type": "markdown",
   "metadata": {
    "slideshow": {
     "slide_type": "slide"
    }
   },
   "source": [
    "### **Python's built-in functions**"
   ]
  },
  {
   "cell_type": "code",
   "execution_count": 23,
   "metadata": {
    "slideshow": {
     "slide_type": "fragment"
    }
   },
   "outputs": [
    {
     "name": "stdout",
     "output_type": "stream",
     "text": [
      "Hello world!\n",
      "print() is one of the basic built in python functions\n"
     ]
    }
   ],
   "source": [
    "print('Hello world!')\n",
    "print('print() is one of the basic built in python functions')"
   ]
  },
  {
   "cell_type": "markdown",
   "metadata": {
    "slideshow": {
     "slide_type": "slide"
    }
   },
   "source": [
    "### **Data types**"
   ]
  },
  {
   "cell_type": "markdown",
   "metadata": {
    "slideshow": {
     "slide_type": "fragment"
    }
   },
   "source": [
    ">#### 4 fundamental data types: \n",
    ">- **int**   (1, -50)\n",
    ">- **float** (3.1415)\n",
    ">- **str**   (this lecture is so boring)\n",
    ">- **bool**  (True, False)"
   ]
  },
  {
   "cell_type": "code",
   "execution_count": 35,
   "metadata": {
    "slideshow": {
     "slide_type": "fragment"
    }
   },
   "outputs": [
    {
     "name": "stdout",
     "output_type": "stream",
     "text": [
      "<class 'float'> \n",
      "\n",
      "1 \n",
      "\n",
      "<class 'int'> \n",
      "\n",
      "1.6\n",
      "\n",
      "<class 'float'>\n"
     ]
    }
   ],
   "source": [
    "print(type(1.6),'\\n')\n",
    "\n",
    "print(int(1.6),'\\n')\n",
    "\n",
    "print(type(int(1.6)),'\\n')\n",
    "\n",
    "print(float(1.6))\n",
    "print()\n",
    "print(type(float(1.6)))"
   ]
  },
  {
   "cell_type": "markdown",
   "metadata": {
    "slideshow": {
     "slide_type": "slide"
    }
   },
   "source": [
    "### **Operators**"
   ]
  },
  {
   "cell_type": "markdown",
   "metadata": {
    "slideshow": {
     "slide_type": "fragment"
    }
   },
   "source": [
    ">#### 3 types: \n",
    ">- **Numeric**   ( +, -, *, / ) \n",
    "    - Input -> Numeric Value | Output -> Numeric Value\n",
    ">- **Comparison** (>, <, ==, !=) \n",
    "    - Input -> Most object types | Output -> Boolean Value (True, False)\n",
    ">- **Logical**   (and / &, or / |, not / !) \n",
    "    - Input -> Boolean | Output -> Boolean Value"
   ]
  },
  {
   "cell_type": "code",
   "execution_count": 37,
   "metadata": {
    "slideshow": {
     "slide_type": "fragment"
    }
   },
   "outputs": [
    {
     "name": "stdout",
     "output_type": "stream",
     "text": [
      "True\n"
     ]
    }
   ],
   "source": [
    "print(2 < 5)"
   ]
  },
  {
   "cell_type": "markdown",
   "metadata": {
    "slideshow": {
     "slide_type": "slide"
    }
   },
   "source": [
    "### **Containers**"
   ]
  },
  {
   "cell_type": "markdown",
   "metadata": {
    "slideshow": {
     "slide_type": "fragment"
    }
   },
   "source": [
    ">#### We use them to **store** our objects  \n"
   ]
  },
  {
   "cell_type": "markdown",
   "metadata": {
    "slideshow": {
     "slide_type": "fragment"
    }
   },
   "source": [
    ">#### They can be: \n",
    ">- **Sequential** or **Non-Sequential** -> (objects ordered from first to last or not)  \n",
    ">- **Mutable** or **Immutable** -> (stored objects can be changed or not)"
   ]
  },
  {
   "cell_type": "markdown",
   "metadata": {
    "slideshow": {
     "slide_type": "fragment"
    }
   },
   "source": [
    ">#### You will mainly use sequential containers for this course:\n",
    ">#### Most important types:\n",
    ">- **lists** (mutable) \n",
    ">- **tuples** (immutable)\n",
    ">- **arrays** (mutable content, immutable size) \n",
    ">- **sets** (non sequential) -> "
   ]
  },
  {
   "cell_type": "code",
   "execution_count": 43,
   "metadata": {
    "slideshow": {
     "slide_type": "subslide"
    }
   },
   "outputs": [
    {
     "name": "stdout",
     "output_type": "stream",
     "text": [
      "list = [1, 5, 6.7, 'John']\n",
      "tuple = ('physics', 'chemistry', 1997, 2000)\n",
      "set = {'banana', 'apple', 'cherry'}\n"
     ]
    }
   ],
   "source": [
    "List = [1, 5, 6.7, 'John']\n",
    "print(\"list =\",List)\n",
    "Tuple = ('physics', 'chemistry', 1997, 2000)\n",
    "print(\"tuple =\", Tuple)\n",
    "Set = {\"apple\", \"banana\", \"cherry\"}\n",
    "print(\"set =\", Set)"
   ]
  },
  {
   "cell_type": "markdown",
   "metadata": {
    "slideshow": {
     "slide_type": "fragment"
    }
   },
   "source": [
    ">#### How to **access** elements?  "
   ]
  },
  {
   "cell_type": "code",
   "execution_count": 44,
   "metadata": {
    "slideshow": {
     "slide_type": "fragment"
    }
   },
   "outputs": [
    {
     "name": "stdout",
     "output_type": "stream",
     "text": [
      "1\n",
      "John\n",
      "1997\n"
     ]
    }
   ],
   "source": [
    "print(List[0])\n",
    "print(List[3])\n",
    "print(Tuple[2])"
   ]
  },
  {
   "cell_type": "markdown",
   "metadata": {
    "slideshow": {
     "slide_type": "slide"
    }
   },
   "source": [
    "### **Debugging**"
   ]
  },
  {
   "cell_type": "code",
   "execution_count": 45,
   "metadata": {
    "slideshow": {
     "slide_type": "fragment"
    }
   },
   "outputs": [
    {
     "ename": "TypeError",
     "evalue": "'set' object is not subscriptable",
     "output_type": "error",
     "traceback": [
      "\u001b[0;31m---------------------------------------------------------------------------\u001b[0m",
      "\u001b[0;31mTypeError\u001b[0m                                 Traceback (most recent call last)",
      "\u001b[0;32m<ipython-input-45-85b87a833921>\u001b[0m in \u001b[0;36m<module>\u001b[0;34m\u001b[0m\n\u001b[0;32m----> 1\u001b[0;31m \u001b[0mprint\u001b[0m\u001b[0;34m(\u001b[0m\u001b[0mSet\u001b[0m\u001b[0;34m[\u001b[0m\u001b[0;36m0\u001b[0m\u001b[0;34m]\u001b[0m\u001b[0;34m)\u001b[0m \u001b[0;31m# Check the problem (last line) and Search the internet for solution!\u001b[0m\u001b[0;34m\u001b[0m\u001b[0;34m\u001b[0m\u001b[0m\n\u001b[0m",
      "\u001b[0;31mTypeError\u001b[0m: 'set' object is not subscriptable"
     ]
    }
   ],
   "source": [
    "print(Set[0]) # Check the problem (last line) and Search the internet for solution!"
   ]
  },
  {
   "cell_type": "markdown",
   "metadata": {
    "slideshow": {
     "slide_type": "slide"
    }
   },
   "source": [
    "### **If statements**"
   ]
  },
  {
   "cell_type": "code",
   "execution_count": 46,
   "metadata": {
    "slideshow": {
     "slide_type": "fragment"
    }
   },
   "outputs": [
    {
     "name": "stdout",
     "output_type": "stream",
     "text": [
      "I'm awesome!\n"
     ]
    }
   ],
   "source": [
    "My_Grade = 12\n",
    "if My_Grade >= 2:\n",
    "    if My_Grade==12:\n",
    "        print (\"I'm awesome!\")\n",
    "    elif My_Grade==10:\n",
    "        print (\"I'm still awesome!\")\n",
    "    else:\n",
    "        print (\"Still f$#@& awesome!\")\n",
    "else:\n",
    "    print (\"I need a beer!\")"
   ]
  },
  {
   "cell_type": "markdown",
   "metadata": {
    "slideshow": {
     "slide_type": "slide"
    }
   },
   "source": [
    "### **Loops**"
   ]
  },
  {
   "cell_type": "markdown",
   "metadata": {
    "slideshow": {
     "slide_type": "fragment"
    }
   },
   "source": [
    "### **For Loops** "
   ]
  },
  {
   "cell_type": "code",
   "execution_count": 47,
   "metadata": {
    "slideshow": {
     "slide_type": "fragment"
    }
   },
   "outputs": [
    {
     "name": "stdout",
     "output_type": "stream",
     "text": [
      "[0, 1, 8, 27]\n"
     ]
    }
   ],
   "source": [
    "a_list = []\n",
    "for i in range(4):\n",
    "    i_cubed = i**3\n",
    "    a_list.append(i_cubed)\n",
    "print(a_list)"
   ]
  },
  {
   "cell_type": "markdown",
   "metadata": {
    "slideshow": {
     "slide_type": "fragment"
    }
   },
   "source": [
    "### **While Loops**"
   ]
  },
  {
   "cell_type": "code",
   "execution_count": 2,
   "metadata": {
    "slideshow": {
     "slide_type": "fragment"
    }
   },
   "outputs": [
    {
     "name": "stdout",
     "output_type": "stream",
     "text": [
      "[0, 1, 8, 27]\n"
     ]
    }
   ],
   "source": [
    "a_list = []\n",
    "i = 0\n",
    "while i < 4:\n",
    "    i_cubed = i**3\n",
    "    a_list.append(i_cubed)\n",
    "    i += 1\n",
    "    \n",
    "print(a_list)"
   ]
  },
  {
   "cell_type": "markdown",
   "metadata": {
    "slideshow": {
     "slide_type": "fragment"
    }
   },
   "source": [
    "NOTE: Indentation DOES matter in Python, is not a purely stylistic requirement!"
   ]
  },
  {
   "cell_type": "markdown",
   "metadata": {
    "slideshow": {
     "slide_type": "slide"
    }
   },
   "source": [
    "### **External Libraries**"
   ]
  },
  {
   "cell_type": "markdown",
   "metadata": {
    "slideshow": {
     "slide_type": "fragment"
    }
   },
   "source": [
    ">#### Python's super weapon!"
   ]
  },
  {
   "cell_type": "markdown",
   "metadata": {
    "slideshow": {
     "slide_type": "fragment"
    }
   },
   "source": [
    ">#### Most important ones:"
   ]
  },
  {
   "cell_type": "code",
   "execution_count": 7,
   "metadata": {
    "slideshow": {
     "slide_type": "fragment"
    }
   },
   "outputs": [],
   "source": [
    "import numpy as np #for manipulation of large, multi-dimensional arrays and matrices\n",
    "import scipy #for scientific computing (math)\n",
    "import matplotlib as mpl #for plotting\n",
    "import matplotlib.pyplot as plt #for plotting"
   ]
  },
  {
   "cell_type": "code",
   "execution_count": 50,
   "metadata": {
    "slideshow": {
     "slide_type": "fragment"
    }
   },
   "outputs": [
    {
     "data": {
      "text/plain": [
       "array([    1,    34, 72773])"
      ]
     },
     "execution_count": 50,
     "metadata": {},
     "output_type": "execute_result"
    }
   ],
   "source": [
    "Array = np.array([1,34,72773])\n",
    "Array"
   ]
  },
  {
   "cell_type": "markdown",
   "metadata": {
    "slideshow": {
     "slide_type": "slide"
    }
   },
   "source": [
    "### **Functions**"
   ]
  },
  {
   "cell_type": "code",
   "execution_count": 51,
   "metadata": {
    "slideshow": {
     "slide_type": "fragment"
    }
   },
   "outputs": [
    {
     "data": {
      "text/plain": [
       "144"
      ]
     },
     "execution_count": 51,
     "metadata": {},
     "output_type": "execute_result"
    }
   ],
   "source": [
    "def square(x): # takes input x\n",
    "    x2 = x**2 # x squared\n",
    "    return x2  # plus one for output\n",
    "\n",
    "square(12)"
   ]
  },
  {
   "cell_type": "markdown",
   "metadata": {
    "slideshow": {
     "slide_type": "slide"
    }
   },
   "source": [
    "## **An Example**"
   ]
  },
  {
   "cell_type": "markdown",
   "metadata": {
    "slideshow": {
     "slide_type": "fragment"
    }
   },
   "source": [
    "#### **We will make a matrix that at every place has either a +1 or a -1 randomly assigned**"
   ]
  },
  {
   "cell_type": "code",
   "execution_count": 8,
   "metadata": {
    "slideshow": {
     "slide_type": "fragment"
    }
   },
   "outputs": [],
   "source": [
    "import numpy as np #for manipulation of large, multi-dimensional arrays and matrices\n",
    "import random #for generation of random numbers\n",
    "import matplotlib.pyplot as plt #for plotting"
   ]
  },
  {
   "cell_type": "code",
   "execution_count": 6,
   "metadata": {
    "slideshow": {
     "slide_type": "fragment"
    }
   },
   "outputs": [
    {
     "name": "stdout",
     "output_type": "stream",
     "text": [
      "[[0. 0. 0. 0. 0. 0. 0. 0. 0. 0. 0. 0. 0. 0. 0. 0. 0. 0. 0. 0.]\n",
      " [0. 0. 0. 0. 0. 0. 0. 0. 0. 0. 0. 0. 0. 0. 0. 0. 0. 0. 0. 0.]\n",
      " [0. 0. 0. 0. 0. 0. 0. 0. 0. 0. 0. 0. 0. 0. 0. 0. 0. 0. 0. 0.]\n",
      " [0. 0. 0. 0. 0. 0. 0. 0. 0. 0. 0. 0. 0. 0. 0. 0. 0. 0. 0. 0.]\n",
      " [0. 0. 0. 0. 0. 0. 0. 0. 0. 0. 0. 0. 0. 0. 0. 0. 0. 0. 0. 0.]\n",
      " [0. 0. 0. 0. 0. 0. 0. 0. 0. 0. 0. 0. 0. 0. 0. 0. 0. 0. 0. 0.]\n",
      " [0. 0. 0. 0. 0. 0. 0. 0. 0. 0. 0. 0. 0. 0. 0. 0. 0. 0. 0. 0.]\n",
      " [0. 0. 0. 0. 0. 0. 0. 0. 0. 0. 0. 0. 0. 0. 0. 0. 0. 0. 0. 0.]\n",
      " [0. 0. 0. 0. 0. 0. 0. 0. 0. 0. 0. 0. 0. 0. 0. 0. 0. 0. 0. 0.]\n",
      " [0. 0. 0. 0. 0. 0. 0. 0. 0. 0. 0. 0. 0. 0. 0. 0. 0. 0. 0. 0.]\n",
      " [0. 0. 0. 0. 0. 0. 0. 0. 0. 0. 0. 0. 0. 0. 0. 0. 0. 0. 0. 0.]\n",
      " [0. 0. 0. 0. 0. 0. 0. 0. 0. 0. 0. 0. 0. 0. 0. 0. 0. 0. 0. 0.]\n",
      " [0. 0. 0. 0. 0. 0. 0. 0. 0. 0. 0. 0. 0. 0. 0. 0. 0. 0. 0. 0.]\n",
      " [0. 0. 0. 0. 0. 0. 0. 0. 0. 0. 0. 0. 0. 0. 0. 0. 0. 0. 0. 0.]\n",
      " [0. 0. 0. 0. 0. 0. 0. 0. 0. 0. 0. 0. 0. 0. 0. 0. 0. 0. 0. 0.]\n",
      " [0. 0. 0. 0. 0. 0. 0. 0. 0. 0. 0. 0. 0. 0. 0. 0. 0. 0. 0. 0.]\n",
      " [0. 0. 0. 0. 0. 0. 0. 0. 0. 0. 0. 0. 0. 0. 0. 0. 0. 0. 0. 0.]\n",
      " [0. 0. 0. 0. 0. 0. 0. 0. 0. 0. 0. 0. 0. 0. 0. 0. 0. 0. 0. 0.]\n",
      " [0. 0. 0. 0. 0. 0. 0. 0. 0. 0. 0. 0. 0. 0. 0. 0. 0. 0. 0. 0.]\n",
      " [0. 0. 0. 0. 0. 0. 0. 0. 0. 0. 0. 0. 0. 0. 0. 0. 0. 0. 0. 0.]]\n",
      "[[-1.  1. -1. -1.  1.  1. -1.  1.  1. -1. -1.  1. -1.  1. -1.  1. -1.  1.\n",
      "  -1.  1.]\n",
      " [-1.  1. -1.  1. -1. -1.  1.  1.  1. -1.  1. -1.  1.  1.  1. -1.  1.  1.\n",
      "   1. -1.]\n",
      " [-1. -1.  1.  1. -1. -1. -1. -1.  1. -1.  1. -1. -1.  1.  1. -1.  1.  1.\n",
      "   1. -1.]\n",
      " [-1.  1. -1.  1.  1. -1.  1.  1. -1.  1.  1. -1. -1.  1. -1. -1. -1. -1.\n",
      "  -1. -1.]\n",
      " [-1.  1.  1. -1.  1. -1. -1. -1.  1. -1.  1. -1.  1. -1.  1. -1. -1. -1.\n",
      "  -1.  1.]\n",
      " [ 1. -1. -1. -1.  1. -1.  1. -1. -1.  1.  1.  1. -1. -1.  1. -1. -1. -1.\n",
      "  -1. -1.]\n",
      " [ 1.  1.  1.  1. -1.  1. -1.  1. -1. -1. -1.  1.  1.  1. -1. -1. -1.  1.\n",
      "   1. -1.]\n",
      " [ 1. -1.  1.  1. -1. -1. -1. -1. -1. -1.  1. -1.  1. -1.  1. -1.  1. -1.\n",
      "  -1.  1.]\n",
      " [ 1.  1.  1.  1.  1. -1. -1. -1. -1.  1.  1.  1. -1.  1. -1.  1. -1. -1.\n",
      "   1. -1.]\n",
      " [-1.  1.  1.  1.  1.  1.  1. -1.  1. -1. -1.  1. -1.  1.  1.  1. -1.  1.\n",
      "   1. -1.]\n",
      " [-1. -1.  1.  1. -1.  1.  1.  1.  1. -1. -1.  1. -1.  1. -1.  1.  1.  1.\n",
      "   1.  1.]\n",
      " [-1.  1.  1. -1. -1.  1.  1.  1. -1.  1.  1.  1. -1.  1.  1.  1. -1. -1.\n",
      "   1. -1.]\n",
      " [-1. -1.  1. -1.  1.  1.  1. -1.  1. -1.  1.  1. -1.  1.  1.  1. -1. -1.\n",
      "  -1. -1.]\n",
      " [ 1.  1. -1.  1. -1. -1. -1. -1.  1. -1. -1. -1.  1. -1.  1.  1.  1. -1.\n",
      "  -1.  1.]\n",
      " [-1.  1.  1. -1. -1.  1. -1. -1. -1. -1. -1.  1.  1. -1. -1. -1. -1. -1.\n",
      "  -1. -1.]\n",
      " [ 1. -1.  1. -1.  1. -1. -1.  1. -1. -1.  1. -1. -1.  1. -1.  1. -1.  1.\n",
      "  -1.  1.]\n",
      " [ 1. -1. -1.  1. -1.  1. -1. -1.  1. -1. -1. -1.  1.  1. -1.  1. -1. -1.\n",
      "  -1.  1.]\n",
      " [-1.  1.  1.  1.  1. -1.  1.  1.  1. -1.  1.  1.  1.  1.  1. -1.  1. -1.\n",
      "  -1. -1.]\n",
      " [-1.  1.  1. -1. -1. -1. -1.  1.  1. -1. -1.  1. -1.  1. -1. -1. -1. -1.\n",
      "  -1.  1.]\n",
      " [ 1.  1. -1. -1. -1. -1.  1.  1. -1.  1.  1.  1.  1.  1. -1.  1.  1. -1.\n",
      "   1. -1.]]\n"
     ]
    }
   ],
   "source": [
    "\"Making it the 'C' way\"\n",
    "\n",
    "nx = 20 # size of the matrix in x direction\n",
    "ny = 20 # size of the matrix in y direction\n",
    "\n",
    "matrix = np.zeros([nx,ny]) # making an n X n matrix full of zeros\n",
    "\n",
    "print(matrix)\n",
    "# assign +1 or -1 to each position randomly\n",
    "for i in range(nx):\n",
    "    for j in range(ny):\n",
    "        rand = random.uniform(0,1)\n",
    "        if rand < 0.5:\n",
    "            matrix[i,j] = -1\n",
    "        else:\n",
    "            matrix[i,j] = 1\n",
    "            \n",
    "print(matrix)        "
   ]
  },
  {
   "cell_type": "code",
   "execution_count": 10,
   "metadata": {
    "slideshow": {
     "slide_type": "slide"
    }
   },
   "outputs": [
    {
     "data": {
      "image/png": "[encoded data removed]",
      "text/plain": [
       "<Figure size 576x432 with 2 Axes>"
      ]
     },
     "metadata": {
      "needs_background": "light"
     },
     "output_type": "display_data"
    }
   ],
   "source": [
    "fig, ax = plt.subplots(figsize = [8,6]); #to create a plot\n",
    "\n",
    "ax.set_title('\"Spins on a lattice\"', fontsize='large',fontweight='bold'); # to add a title\n",
    "\n",
    "ax.imshow(matrix, cmap='binary'); # creating a figure of binary coloured boxes corresponding to the matrix values +1 and -1\n",
    "\n",
    "fig.colorbar(ax.imshow(matrix, cmap='binary')); # seting a colorbar nex to the plot to show you which color correspond to which value"
   ]
  },
  {
   "cell_type": "markdown",
   "metadata": {
    "slideshow": {
     "slide_type": "slide"
    }
   },
   "source": [
    "#### **And now...the python way**"
   ]
  },
  {
   "cell_type": "code",
   "execution_count": 40,
   "metadata": {
    "scrolled": true,
    "slideshow": {
     "slide_type": "fragment"
    }
   },
   "outputs": [
    {
     "data": {
      "text/plain": [
       "array([[ 1,  1, -1, -1, -1, -1, -1, -1, -1, -1,  1, -1,  1, -1, -1, -1,\n",
       "        -1,  1, -1, -1],\n",
       "       [-1,  1, -1, -1,  1, -1,  1,  1, -1, -1, -1, -1,  1,  1,  1,  1,\n",
       "        -1,  1, -1, -1],\n",
       "       [-1, -1,  1, -1, -1, -1,  1,  1,  1,  1,  1, -1, -1, -1, -1,  1,\n",
       "        -1, -1, -1,  1],\n",
       "       [-1,  1,  1, -1, -1,  1, -1, -1, -1,  1, -1,  1, -1, -1,  1, -1,\n",
       "         1,  1,  1,  1],\n",
       "       [-1,  1, -1,  1, -1, -1,  1, -1, -1,  1,  1,  1, -1,  1,  1,  1,\n",
       "         1, -1,  1,  1],\n",
       "       [-1,  1, -1,  1,  1, -1,  1,  1, -1,  1,  1,  1, -1, -1,  1,  1,\n",
       "        -1, -1,  1, -1],\n",
       "       [ 1, -1, -1, -1,  1, -1, -1, -1,  1,  1, -1, -1,  1,  1, -1,  1,\n",
       "        -1, -1,  1, -1],\n",
       "       [ 1,  1,  1, -1, -1,  1, -1, -1,  1, -1, -1,  1, -1, -1,  1, -1,\n",
       "        -1,  1, -1, -1],\n",
       "       [ 1,  1,  1,  1, -1, -1,  1, -1,  1,  1,  1, -1,  1, -1,  1, -1,\n",
       "         1, -1,  1,  1],\n",
       "       [ 1, -1, -1,  1, -1, -1,  1,  1, -1, -1,  1, -1,  1,  1,  1,  1,\n",
       "        -1, -1, -1,  1],\n",
       "       [ 1,  1,  1, -1, -1,  1, -1,  1, -1,  1, -1, -1, -1, -1, -1, -1,\n",
       "         1,  1, -1,  1],\n",
       "       [-1,  1,  1,  1,  1,  1, -1,  1,  1,  1,  1,  1,  1, -1, -1,  1,\n",
       "         1,  1,  1,  1],\n",
       "       [ 1,  1,  1, -1, -1,  1, -1, -1,  1,  1, -1, -1,  1, -1,  1,  1,\n",
       "         1, -1,  1, -1],\n",
       "       [ 1, -1, -1,  1,  1, -1, -1, -1,  1, -1, -1,  1, -1,  1,  1,  1,\n",
       "        -1, -1, -1, -1],\n",
       "       [-1,  1,  1,  1,  1, -1,  1, -1,  1, -1,  1,  1,  1, -1, -1, -1,\n",
       "        -1,  1, -1, -1],\n",
       "       [-1, -1, -1, -1,  1,  1,  1, -1, -1, -1,  1,  1,  1,  1, -1,  1,\n",
       "         1, -1, -1,  1],\n",
       "       [-1, -1, -1, -1,  1,  1,  1,  1,  1,  1, -1, -1,  1, -1,  1,  1,\n",
       "         1,  1, -1, -1],\n",
       "       [ 1, -1,  1, -1, -1,  1, -1,  1,  1,  1,  1,  1,  1,  1, -1, -1,\n",
       "         1, -1,  1,  1],\n",
       "       [-1, -1,  1, -1, -1,  1, -1,  1, -1, -1, -1, -1,  1, -1, -1, -1,\n",
       "         1, -1, -1, -1],\n",
       "       [ 1,  1,  1,  1,  1,  1,  1,  1, -1, -1,  1, -1,  1, -1,  1, -1,\n",
       "        -1, -1,  1, -1]])"
      ]
     },
     "execution_count": 40,
     "metadata": {},
     "output_type": "execute_result"
    }
   ],
   "source": [
    "nx, ny = 20, 20\n",
    "matrix = 2 * np.random.randint(0, 2, size=(nx, ny)) - 1\n",
    "matrix"
   ]
  },
  {
   "cell_type": "code",
   "execution_count": 41,
   "metadata": {
    "slideshow": {
     "slide_type": "slide"
    }
   },
   "outputs": [
    {
     "data": {
      "image/png": "[encoded data removed]",
      "text/plain": [
       "<Figure size 576x432 with 2 Axes>"
      ]
     },
     "metadata": {
      "needs_background": "light"
     },
     "output_type": "display_data"
    }
   ],
   "source": [
    "fig, ax = plt.subplots(figsize = [8,6]); #to create a plot\n",
    "\n",
    "ax.set_title('\"Spins on a lattice\"', fontsize='x-large',fontweight='bold'); # to add a title\n",
    "\n",
    "ax.imshow(matrix, cmap='binary'); # creating a figure of binary coloured boxes corresponding to the matrix values +1 and -1\n",
    "\n",
    "fig.colorbar(ax.imshow(matrix, cmap='binary')); # seting a colorbar nex to the plot to show you which color correspond to which value"
   ]
  },
  {
   "cell_type": "code",
   "execution_count": null,
   "metadata": {},
   "outputs": [],
   "source": []
  }
 ],
 "metadata": {
  "celltoolbar": "Slideshow",
  "kernelspec": {
   "display_name": "Python 3",
   "language": "python",
   "name": "python3"
  },
  "language_info": {
   "codemirror_mode": {
    "name": "ipython",
    "version": 3
   },
   "file_extension": ".py",
   "mimetype": "text/x-python",
   "name": "python",
   "nbconvert_exporter": "python",
   "pygments_lexer": "ipython3",
   "version": "3.7.4"
  }
 },
 "nbformat": 4,
 "nbformat_minor": 4
}
