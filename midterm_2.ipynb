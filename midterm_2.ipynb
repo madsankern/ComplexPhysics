{
 "cells": [
  {
   "cell_type": "markdown",
   "metadata": {},
   "source": [
    "## Simulate the sandpile model with 2 random neighbours"
   ]
  },
  {
   "cell_type": "code",
   "execution_count": 1,
   "metadata": {},
   "outputs": [],
   "source": [
    "import random\n",
    "import matplotlib.pyplot as plt\n",
    "import numpy as np"
   ]
  },
  {
   "cell_type": "markdown",
   "metadata": {},
   "source": [
    "Define the sandpile model below"
   ]
  },
  {
   "cell_type": "code",
   "execution_count": 2,
   "metadata": {},
   "outputs": [],
   "source": [
    "def sandpile_model(initial_state, max_value=1, yield_all=False, grain_add_method='random'):\n",
    "    nx, ny = initial_state.shape\n",
    "    state = initial_state.copy()\n",
    "\n",
    "    # execute topplings (if any)\n",
    "    while True:\n",
    "        \n",
    "        # Initialize placeholder for avalanche size\n",
    "        avalanche_size = 0\n",
    "        \n",
    "        while True:\n",
    "            \n",
    "            # create a zero-padded copy of state so we don't\n",
    "            # need to worry about the edges\n",
    "            # CHECK THIS OUT\n",
    "            state_padded = np.pad(state, 1, 'constant', constant_values=0)\n",
    "\n",
    "            # Chech if excited sites are present\n",
    "            is_above_threshold = state_padded > max_value\n",
    "\n",
    "            if not np.any(is_above_threshold):\n",
    "                break\n",
    "\n",
    "            # Find the excited site\n",
    "            i, j = np.where(is_above_threshold)\n",
    "            \n",
    "            # Remove grains from the excited site\n",
    "            state_padded[i, j] -= 2\n",
    "            \n",
    "            # Assing sand randomly twice\n",
    "            for _ in range(2):\n",
    "                \n",
    "                # Determine whether to move vertically or horizontally\n",
    "                ver_ho = np.random.randint(0,2)\n",
    "                \n",
    "                # Determine the direction to move\n",
    "                direction = 2*np.random.randint(0,2) - 1\n",
    "                \n",
    "                # Vertically\n",
    "                if ver_ho == 0:\n",
    "                    state_padded[i, j + direction] += 1\n",
    "                    \n",
    "                # Horizontally\n",
    "                elif ver_ho == 1:\n",
    "                    state_padded[i + direction, j] += 1\n",
    "\n",
    "            # Add avalance number\n",
    "            avalanche_size += np.count_nonzero(is_above_threshold)\n",
    "            \n",
    "            # Remove padding\n",
    "            state = state_padded[1:-1, 1:-1]\n",
    "            \n",
    "            if yield_all:\n",
    "                yield state, None\n",
    "\n",
    "        # Add grains at random sites\n",
    "        if grain_add_method == 'random':\n",
    "            i, j = np.random.randint(nx), np.random.randint(ny)\n",
    "        \n",
    "        # Only add grains at the edge of the system\n",
    "        elif grain_add_method == 'edge':\n",
    "            \n",
    "            ver_ho2 = np.random.randint(0,2)\n",
    "            \n",
    "            # Vertical\n",
    "            if ver_ho2 == 0:\n",
    "                \n",
    "                # Either on the left or right\n",
    "                j = nx*np.random.randint(0,2) - 1\n",
    "                \n",
    "                # Row number\n",
    "                i = np.random.randint(nx)\n",
    "                \n",
    "            # Horizontal\n",
    "            elif ver_ho2 == 1:\n",
    "                \n",
    "                # Either at the top or bottom\n",
    "                i = ny*np.random.randint(0,2) - 1\n",
    "                \n",
    "                # Column number\n",
    "                j = np.random.randint(ny)\n",
    "            \n",
    "        state[i, j] += 1\n",
    "        \n",
    "        yield state, avalanche_size"
   ]
  },
  {
   "cell_type": "markdown",
   "metadata": {},
   "source": [
    "### Q1"
   ]
  },
  {
   "cell_type": "markdown",
   "metadata": {},
   "source": [
    "*Implement the sandpile model on an $50 \\times 50$ lattice and plot avalanche size as a function of time*"
   ]
  },
  {
   "cell_type": "markdown",
   "metadata": {},
   "source": [
    "Run the system and record avalanche sizes"
   ]
  },
  {
   "cell_type": "code",
   "execution_count": 33,
   "metadata": {},
   "outputs": [],
   "source": [
    "# Initialize an empty lattice\n",
    "initial_state = np.zeros((200, 200), dtype=int)\n",
    "state_generator = sandpile_model(initial_state, grain_add_method = 'random')\n",
    "\n",
    "# Keep track of avalanche sizes\n",
    "iterations = 20000\n",
    "avalanches = []\n",
    "\n",
    "for state, avalanche_size in state_generator:\n",
    "    if avalanche_size > 0:\n",
    "        avalanches.append(avalanche_size)\n",
    "\n",
    "    if len(avalanches) > iterations-1:\n",
    "        break"
   ]
  },
  {
   "cell_type": "markdown",
   "metadata": {},
   "source": [
    "Plot the resulting time series of avalanche sizes"
   ]
  },
  {
   "cell_type": "code",
   "execution_count": 34,
   "metadata": {},
   "outputs": [],
   "source": [
    "# Define x values for the plot\n",
    "x_vals = range(iterations)"
   ]
  },
  {
   "cell_type": "code",
   "execution_count": 35,
   "metadata": {},
   "outputs": [
    {
     "data": {
      "image/png": "[encoded data removed]",
      "text/plain": [
       "<Figure size 576x432 with 1 Axes>"
      ]
     },
     "metadata": {
      "needs_background": "light"
     },
     "output_type": "display_data"
    }
   ],
   "source": [
    "# Initialize the figure\n",
    "fig = plt.figure(figsize=(8,6))\n",
    "ax = fig.add_subplot(1,1,1)\n",
    "\n",
    "# Plot the avalanche sizes\n",
    "ax.plot(x_vals, avalanches, color = '0.4', linewidth = 0.5)\n",
    "\n",
    "# Plot settingx\n",
    "ax.set_xlabel('Iteration number')\n",
    "ax.set_ylabel('Avalanche size')\n",
    "ax.set_xlim(x_vals[0], x_vals[-1])\n",
    "ax.set_ylim(0)\n",
    "\n",
    "plt.show()"
   ]
  },
  {
   "cell_type": "markdown",
   "metadata": {},
   "source": [
    "Compute the average number of sand grains per site"
   ]
  },
  {
   "cell_type": "code",
   "execution_count": 36,
   "metadata": {},
   "outputs": [
    {
     "name": "stdout",
     "output_type": "stream",
     "text": [
      "The average number of sand grains per site is 0.69505\n"
     ]
    }
   ],
   "source": [
    "print('The average number of sand grains per site is ' + str(np.average(state)))"
   ]
  },
  {
   "cell_type": "markdown",
   "metadata": {},
   "source": [
    "Could make a time series of the average number of grains as a function of time, to show steady state"
   ]
  },
  {
   "cell_type": "markdown",
   "metadata": {},
   "source": [
    "## Q.2"
   ]
  },
  {
   "cell_type": "markdown",
   "metadata": {},
   "source": [
    "*Simulate the system for various sizes. Compute the steady state avalanche distribution for each system size and estimate the associated exponent*"
   ]
  },
  {
   "cell_type": "code",
   "execution_count": 71,
   "metadata": {},
   "outputs": [],
   "source": [
    "# Initialize\n",
    "sys_size = [25, 50, 100, 200]\n",
    "iterations = 20000\n",
    "n0 = 15000\n",
    "avalanche_mat = np.zeros((len(sys_size), iterations - 15000)) # Rows correspond to system sizes, columns are avalance sizes after transient phase \n",
    "\n",
    "# Loop over system sizes\n",
    "for i,L in enumerate(sys_size):\n",
    "\n",
    "    # Initialize an empty lattice at given size\n",
    "    initial_state = np.zeros((L, L), dtype=int)\n",
    "    state_generator = sandpile_model(initial_state, grain_add_method = 'random')\n",
    "\n",
    "    # Keep track of avalanche sizes\n",
    "    avalanches = []\n",
    "\n",
    "    for state, avalanche_size in state_generator:\n",
    "        if avalanche_size > 0:\n",
    "            avalanches.append(avalanche_size)\n",
    "\n",
    "        if len(avalanches) > iterations-1:\n",
    "            break\n",
    "\n",
    "    # Add avalanche distribution\n",
    "    avalanche_mat[i,:] = avalanches[n0 : iterations]"
   ]
  },
  {
   "cell_type": "markdown",
   "metadata": {},
   "source": [
    "Compute the distribution of avalanches "
   ]
  },
  {
   "cell_type": "code",
   "execution_count": 207,
   "metadata": {},
   "outputs": [],
   "source": [
    "# Generate bins\n",
    "bin_nr = 30\n",
    "bins = np.logspace(0,7,bin_nr)\n",
    "\n",
    "# Initialize density matrix\n",
    "density = np.zeros((len(avalanche_mat), bin_nr - 1))\n",
    "s_vals = np.zeros(bin_nr - 1)\n",
    "\n",
    "# Loop over system size\n",
    "for i in range(len(avalanche_mat)):\n",
    "    \n",
    "    # Loop over bin values\n",
    "    for j in range(bin_nr - 1):\n",
    "    \n",
    "        # Count occurences\n",
    "        bol = (avalanche_mat[i,:] >= bins[j]) & (avalanche_mat[i,:] < bins[j+1])\n",
    "        num = bol.sum()\n",
    "        \n",
    "        # Divide by bin length to generate density\n",
    "        den = num / ((bins[j+1] - bins[j]) * len(avalanche_mat[i,:]))\n",
    "        density[i,j] = den\n",
    "        \n",
    "        # Compte associated avalanche size as the mid point of each bin\n",
    "        s_vals[j] = (bins[j] + bins[j+1]) / 2"
   ]
  },
  {
   "cell_type": "markdown",
   "metadata": {},
   "source": [
    "Plot the resulting distribution in a log-log plot"
   ]
  },
  {
   "cell_type": "code",
   "execution_count": 218,
   "metadata": {},
   "outputs": [
    {
     "data": {
      "image/png": "[encoded data removed]",
      "text/plain": [
       "<Figure size 576x432 with 1 Axes>"
      ]
     },
     "metadata": {
      "needs_background": "light"
     },
     "output_type": "display_data"
    }
   ],
   "source": [
    "# Initialize the figure\n",
    "fig = plt.figure(figsize=(8,6))\n",
    "ax = fig.add_subplot(1,1,1)\n",
    "\n",
    "# Plot distributions\n",
    "col = '0.4'\n",
    "ax.plot(s_vals, density[0,:], color = col, linestyle = ':', label = r'$L = 25$')\n",
    "ax.plot(s_vals, density[1,:], color = col, linestyle = '--', label = r'$L = 50$')\n",
    "ax.plot(s_vals, density[2,:], color = col, linestyle = '-.', label = r'$L = 100$')\n",
    "ax.plot(s_vals, density[3,:], color = col, linestyle = '-', label = r'$L = 200$')\n",
    "\n",
    "# Settings\n",
    "plt.xscale('log')\n",
    "plt.yscale('log')\n",
    "\n",
    "ax.set_xlabel(r'$\\log s$')\n",
    "ax.set_ylabel(r'$\\log P(s)$')\n",
    "\n",
    "ax.legend(frameon = True, edgecolor = 'k', facecolor = 'white', framealpha=1, fancybox=False)\n",
    "ax.grid(b=True, which = 'major', linestyle='-', linewidth=0.5, color='0.9')\n",
    "ax.tick_params(axis='both',bottom=True,top=True,left=True,right=True,direction='in',which='both')"
   ]
  },
  {
   "cell_type": "markdown",
   "metadata": {},
   "source": [
    "Assume that the DGP for each plot is\n",
    "$$ P(s) \\propto \\frac{1}{s^\\tau} \\exp \\left( - \\frac{s}{L^D} \\right) $$\n",
    "where $\\tau$ and $D$ are to be estimated."
   ]
  },
  {
   "cell_type": "code",
   "execution_count": null,
   "metadata": {},
   "outputs": [],
   "source": []
  }
 ],
 "metadata": {
  "kernelspec": {
   "display_name": "Python 3",
   "language": "python",
   "name": "python3"
  },
  "language_info": {
   "codemirror_mode": {
    "name": "ipython",
    "version": 3
   },
   "file_extension": ".py",
   "mimetype": "text/x-python",
   "name": "python",
   "nbconvert_exporter": "python",
   "pygments_lexer": "ipython3",
   "version": "3.7.4"
  }
 },
 "nbformat": 4,
 "nbformat_minor": 4
}
