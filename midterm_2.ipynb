{
 "cells": [
  {
   "cell_type": "markdown",
   "metadata": {},
   "source": [
    "## Simulate the sandpile model with 2 random neighbours"
   ]
  },
  {
   "cell_type": "code",
   "execution_count": 1,
   "metadata": {},
   "outputs": [],
   "source": [
    "import random\n",
    "import matplotlib.pyplot as plt\n",
    "import numpy as np"
   ]
  },
  {
   "cell_type": "markdown",
   "metadata": {},
   "source": [
    "Define the sandpile model below"
   ]
  },
  {
   "cell_type": "code",
   "execution_count": 2,
   "metadata": {},
   "outputs": [],
   "source": [
    "def sandpile_model(initial_state, max_value=1, yield_all=False, grain_add_method='random'):\n",
    "    nx, ny = initial_state.shape\n",
    "    state = initial_state.copy()\n",
    "\n",
    "    # execute topplings (if any)\n",
    "    while True:\n",
    "        \n",
    "        # Initialize placeholder for avalanche size\n",
    "        avalanche_size = 0\n",
    "        \n",
    "        while True:\n",
    "            \n",
    "            # create a zero-padded copy of state so we don't\n",
    "            # need to worry about the edges\n",
    "            # CHECK THIS OUT\n",
    "            state_padded = np.pad(state, 1, 'constant', constant_values=0)\n",
    "\n",
    "            # Chech if excited sites are present\n",
    "            is_above_threshold = state_padded > max_value\n",
    "\n",
    "            if not np.any(is_above_threshold):\n",
    "                break\n",
    "\n",
    "            # Find the excited site\n",
    "            i, j = np.where(is_above_threshold)\n",
    "            \n",
    "            # Remove grains from the excited site\n",
    "            state_padded[i, j] -= 2\n",
    "            \n",
    "            # Assing sand randomly twice\n",
    "            for _ in range(2):\n",
    "                \n",
    "                # Determine whether to move vertically or horizontally\n",
    "                ver_ho = np.random.randint(0,2)\n",
    "                \n",
    "                # Determine the direction to move\n",
    "                direction = 2*np.random.randint(0,2) - 1\n",
    "                \n",
    "                # Vertically\n",
    "                if ver_ho == 0:\n",
    "                    state_padded[i, j + direction] += 1\n",
    "                    \n",
    "                # Horizontally\n",
    "                elif ver_ho == 1:\n",
    "                    state_padded[i + direction, j] += 1\n",
    "\n",
    "            # Add avalance number\n",
    "            avalanche_size += np.count_nonzero(is_above_threshold)\n",
    "            \n",
    "            # Remove padding\n",
    "            state = state_padded[1:-1, 1:-1]\n",
    "            \n",
    "            if yield_all:\n",
    "                yield state, None\n",
    "\n",
    "        # Add grains at random sites\n",
    "        if grain_add_method == 'random':\n",
    "            i, j = np.random.randint(nx), np.random.randint(ny)\n",
    "        \n",
    "        # Only add grains at the edge of the system\n",
    "        elif grain_add_method == 'edge':\n",
    "            \n",
    "            ver_ho2 = np.random.randint(0,2)\n",
    "            \n",
    "            # Vertical\n",
    "            if ver_ho2 == 0:\n",
    "                \n",
    "                # Either on the left or right\n",
    "                j = nx*np.random.randint(0,2) - 1\n",
    "                \n",
    "                # Row number\n",
    "                i = np.random.randint(nx)\n",
    "                \n",
    "            # Horizontal\n",
    "            elif ver_ho2 == 1:\n",
    "                \n",
    "                # Either at the top or bottom\n",
    "                i = ny*np.random.randint(0,2) - 1\n",
    "                \n",
    "                # Columnnumber\n",
    "                j = np.random.randint(ny)\n",
    "            \n",
    "        state[i, j] += 1\n",
    "        \n",
    "        yield state, avalanche_size"
   ]
  },
  {
   "cell_type": "markdown",
   "metadata": {},
   "source": [
    "### Q1"
   ]
  },
  {
   "cell_type": "markdown",
   "metadata": {},
   "source": [
    "*Implement the sandpile model on an $50 \\times 50$ lattice and plot avalanche size as a function of time*"
   ]
  },
  {
   "cell_type": "markdown",
   "metadata": {},
   "source": [
    "Run the system and record avalanche sizes"
   ]
  },
  {
   "cell_type": "code",
   "execution_count": 3,
   "metadata": {},
   "outputs": [],
   "source": [
    "# Initialize an empty lattice\n",
    "initial_state = np.zeros((25, 25), dtype=int)\n",
    "state_generator = sandpile_model(initial_state, grain_add_method = 'random')\n",
    "\n",
    "# Keep track of avalanche sizes\n",
    "iterations = 2000\n",
    "avalanches = []\n",
    "\n",
    "for state, avalanche_size in state_generator:\n",
    "    if avalanche_size > 0:\n",
    "        avalanches.append(avalanche_size)\n",
    "\n",
    "    if len(avalanches) > iterations-1:\n",
    "        break"
   ]
  },
  {
   "cell_type": "markdown",
   "metadata": {},
   "source": [
    "Plot the resulting time series of avalanche sizes"
   ]
  },
  {
   "cell_type": "code",
   "execution_count": 4,
   "metadata": {},
   "outputs": [],
   "source": [
    "# Define x values for the plot\n",
    "x_vals = range(iterations)"
   ]
  },
  {
   "cell_type": "code",
   "execution_count": 11,
   "metadata": {},
   "outputs": [
    {
     "data": {
      "image/png": "[encoded data removed]",
      "text/plain": [
       "<Figure size 576x432 with 1 Axes>"
      ]
     },
     "metadata": {
      "needs_background": "light"
     },
     "output_type": "display_data"
    }
   ],
   "source": [
    "# Initialize the figure\n",
    "fig = plt.figure(figsize=(8,6))\n",
    "ax = fig.add_subplot(1,1,1)\n",
    "\n",
    "# Plot the avalanche sizes\n",
    "ax.plot(x_vals, avalanches, color = '0.4', linewidth = 0.5)\n",
    "\n",
    "# Plot settingx\n",
    "ax.set_xlabel('Iteration number')\n",
    "ax.set_ylabel('Avalanche size')\n",
    "ax.set_xlim(x_vals[0], x_vals[-1])\n",
    "ax.set_ylim(0)\n",
    "\n",
    "plt.show()"
   ]
  }
 ],
 "metadata": {
  "kernelspec": {
   "display_name": "Python 3",
   "language": "python",
   "name": "python3"
  },
  "language_info": {
   "codemirror_mode": {
    "name": "ipython",
    "version": 3
   },
   "file_extension": ".py",
   "mimetype": "text/x-python",
   "name": "python",
   "nbconvert_exporter": "python",
   "pygments_lexer": "ipython3",
   "version": "3.7.4"
  }
 },
 "nbformat": 4,
 "nbformat_minor": 4
}
